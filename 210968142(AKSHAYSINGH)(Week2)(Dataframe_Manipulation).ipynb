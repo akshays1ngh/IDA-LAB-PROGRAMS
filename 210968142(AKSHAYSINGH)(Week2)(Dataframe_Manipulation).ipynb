{
 "cells": [
  {
   "cell_type": "code",
   "execution_count": 1,
   "id": "04af386c",
   "metadata": {},
   "outputs": [],
   "source": [
    "import pandas as pd"
   ]
  },
  {
   "cell_type": "code",
   "execution_count": 2,
   "id": "13e36431",
   "metadata": {},
   "outputs": [
    {
     "name": "stdout",
     "output_type": "stream",
     "text": [
      "    Roll Number      Name Gender  Marks1  Marks2  Marks3\n",
      "1             1    Akshay      M      10     100      10\n",
      "2             2     shubh      F      20      90      20\n",
      "3             3   Rakshit      F      30      80      30\n",
      "4             4   yashvee      F      40      70      40\n",
      "5             5    sonika      F      50      60      50\n",
      "6             6  harshita      F      60      50      60\n",
      "7             7   dishita      F      70      40      70\n",
      "8             8      yash      M      80      30      80\n",
      "9             9     parva      M      90      20      90\n",
      "10           10    achyut      F     100      10     100\n"
     ]
    }
   ],
   "source": [
    "# Creation of dataframe\n",
    "data  =  {'Roll Number': [1, 2, 3, 4, 5, 6, 7, 8, 9, 10],\n",
    "                'Name': ['Akshay', 'shubh', 'Rakshit', 'yashvee', 'sonika','harshita','dishita','yash','parva','achyut'],\n",
    "                'Gender': ['M', 'F', 'F', 'F', 'F', 'F', 'F', 'M', 'M', 'F'],\n",
    "                'Marks1': [10,20,30,40,50,60,70,80,90,100],\n",
    "                'Marks2': [100,90,80,70,60,50,40,30,20,10],\n",
    "                'Marks3': [10,20,30,40,50,60,70,80,90,100],\n",
    "                }\n",
    "df = pd.DataFrame(data, index=[1,2,3,4,5,6,7,8,9,10])\n",
    "print(df)"
   ]
  },
  {
   "cell_type": "code",
   "execution_count": 8,
   "id": "93a71f85",
   "metadata": {},
   "outputs": [
    {
     "name": "stdout",
     "output_type": "stream",
     "text": [
      "    Roll Number      Name Gender  Marks1  Marks2  Marks3  total\n",
      "1             1    Akshay      M      10     100      10    120\n",
      "2             2     shubh      F      20      90      20    130\n",
      "3             3   Rakshit      F      30      80      30    140\n",
      "4             4   yashvee      F      40      70      40    150\n",
      "5             5    sonika      F      50      60      50    160\n",
      "6             6  harshita      F      60      50      60    170\n",
      "7             7   dishita      F      70      40      70    180\n",
      "8             8      yash      M      80      30      80    190\n",
      "9             9     parva      M      90      20      90    200\n",
      "10           10    achyut      F     100      10     100    210\n"
     ]
    }
   ],
   "source": [
    "# creation of new column of total marks.\n",
    "df['total'] = df.iloc[:,3:6].sum(1)\n",
    "\n",
    "print(df)"
   ]
  },
  {
   "cell_type": "code",
   "execution_count": 9,
   "id": "e26610ef",
   "metadata": {},
   "outputs": [
    {
     "name": "stdout",
     "output_type": "stream",
     "text": [
      "minimum marks in Marks1 is: \n",
      "10\n"
     ]
    }
   ],
   "source": [
    "# lowest marks in Marks1.\n",
    "minmarks= df['Marks1'].min()\n",
    "\n",
    "print(\"minimum marks in Marks1 is: \")\n",
    "print(minmarks)"
   ]
  },
  {
   "cell_type": "code",
   "execution_count": 4,
   "id": "93f140cd",
   "metadata": {},
   "outputs": [
    {
     "name": "stdout",
     "output_type": "stream",
     "text": [
      "maximum marks in Marks2 is: \n",
      "100\n"
     ]
    }
   ],
   "source": [
    "# highest marks in Marks2.\n",
    "maxmarks= df['Marks2'].max()\n",
    "\n",
    "print(\"maximum marks in Marks2 is: \")\n",
    "print(maxmarks)"
   ]
  },
  {
   "cell_type": "code",
   "execution_count": 5,
   "id": "8bb50fdf",
   "metadata": {},
   "outputs": [
    {
     "name": "stdout",
     "output_type": "stream",
     "text": [
      "average marks in Marks3 is: \n",
      "55.0\n"
     ]
    }
   ],
   "source": [
    "# Average marks in Marks3.\n",
    "avgmarks= df['Marks3'].mean()\n",
    "\n",
    "print(\"average marks in Marks3 is: \")\n",
    "print(avgmarks)"
   ]
  },
  {
   "cell_type": "code",
   "execution_count": 6,
   "id": "521f7dc1",
   "metadata": {},
   "outputs": [
    {
     "name": "stdout",
     "output_type": "stream",
     "text": [
      "achyut\n"
     ]
    }
   ],
   "source": [
    "# student name with highest average.\n",
    "average=df.iloc[:,3:6].mean(1)\n",
    "\n",
    "highest=average.idxmax()\n",
    "\n",
    "name= df.iat[highest-1,1]\n",
    "\n",
    "print (name)"
   ]
  },
  {
   "cell_type": "code",
   "execution_count": 7,
   "id": "d996395d",
   "metadata": {},
   "outputs": [
    {
     "name": "stdout",
     "output_type": "stream",
     "text": [
      "Number of students failing in marks 2 :  3\n",
      "    Roll Number    Name Gender  Marks1  Marks2  Marks3\n",
      "8             8    yash      M      80      30      80\n",
      "9             9   parva      M      90      20      90\n",
      "10           10  achyut      F     100      10     100\n"
     ]
    }
   ],
   "source": [
    "# count of students who failed in Marks2.\n",
    "df2=df[df['Marks2']<40]\n",
    "\n",
    "print(\"Number of students failing in marks 2 : \", df2.shape[0])\n",
    "print(df2)"
   ]
  }
 ],
 "metadata": {
  "kernelspec": {
   "display_name": "Python 3 (ipykernel)",
   "language": "python",
   "name": "python3"
  },
  "language_info": {
   "codemirror_mode": {
    "name": "ipython",
    "version": 3
   },
   "file_extension": ".py",
   "mimetype": "text/x-python",
   "name": "python",
   "nbconvert_exporter": "python",
   "pygments_lexer": "ipython3",
   "version": "3.9.12"
  }
 },
 "nbformat": 4,
 "nbformat_minor": 5
}
