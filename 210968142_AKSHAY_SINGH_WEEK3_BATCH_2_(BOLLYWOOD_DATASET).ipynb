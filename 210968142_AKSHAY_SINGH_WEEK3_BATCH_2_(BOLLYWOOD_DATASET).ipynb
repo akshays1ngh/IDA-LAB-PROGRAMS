{
 "cells": [
  {
   "cell_type": "code",
   "execution_count": 1,
   "id": "fa8f9363",
   "metadata": {},
   "outputs": [
    {
     "data": {
      "text/html": [
       "<div>\n",
       "<style scoped>\n",
       "    .dataframe tbody tr th:only-of-type {\n",
       "        vertical-align: middle;\n",
       "    }\n",
       "\n",
       "    .dataframe tbody tr th {\n",
       "        vertical-align: top;\n",
       "    }\n",
       "\n",
       "    .dataframe thead th {\n",
       "        text-align: right;\n",
       "    }\n",
       "</style>\n",
       "<table border=\"1\" class=\"dataframe\">\n",
       "  <thead>\n",
       "    <tr style=\"text-align: right;\">\n",
       "      <th></th>\n",
       "      <th>SlNo</th>\n",
       "      <th>Release Date</th>\n",
       "      <th>MovieName</th>\n",
       "      <th>ReleaseTime</th>\n",
       "      <th>Genre</th>\n",
       "      <th>Budget</th>\n",
       "      <th>BoxOfficeCollection</th>\n",
       "      <th>YoutubeViews</th>\n",
       "      <th>YoutubeLikes</th>\n",
       "      <th>YoutubeDislikes</th>\n",
       "    </tr>\n",
       "  </thead>\n",
       "  <tbody>\n",
       "    <tr>\n",
       "      <th>0</th>\n",
       "      <td>1</td>\n",
       "      <td>18-Apr-14</td>\n",
       "      <td>2 States</td>\n",
       "      <td>LW</td>\n",
       "      <td>Romance</td>\n",
       "      <td>36</td>\n",
       "      <td>104.00</td>\n",
       "      <td>8576361</td>\n",
       "      <td>26622</td>\n",
       "      <td>2527</td>\n",
       "    </tr>\n",
       "    <tr>\n",
       "      <th>1</th>\n",
       "      <td>2</td>\n",
       "      <td>4-Jan-13</td>\n",
       "      <td>Table No. 21</td>\n",
       "      <td>N</td>\n",
       "      <td>Thriller</td>\n",
       "      <td>10</td>\n",
       "      <td>12.00</td>\n",
       "      <td>1087320</td>\n",
       "      <td>1129</td>\n",
       "      <td>137</td>\n",
       "    </tr>\n",
       "    <tr>\n",
       "      <th>2</th>\n",
       "      <td>3</td>\n",
       "      <td>18-Jul-14</td>\n",
       "      <td>Amit Sahni Ki List</td>\n",
       "      <td>N</td>\n",
       "      <td>Comedy</td>\n",
       "      <td>10</td>\n",
       "      <td>4.00</td>\n",
       "      <td>572336</td>\n",
       "      <td>586</td>\n",
       "      <td>54</td>\n",
       "    </tr>\n",
       "    <tr>\n",
       "      <th>3</th>\n",
       "      <td>4</td>\n",
       "      <td>4-Jan-13</td>\n",
       "      <td>Rajdhani Express</td>\n",
       "      <td>N</td>\n",
       "      <td>Drama</td>\n",
       "      <td>7</td>\n",
       "      <td>0.35</td>\n",
       "      <td>42626</td>\n",
       "      <td>86</td>\n",
       "      <td>19</td>\n",
       "    </tr>\n",
       "    <tr>\n",
       "      <th>4</th>\n",
       "      <td>5</td>\n",
       "      <td>4-Jul-14</td>\n",
       "      <td>Bobby Jasoos</td>\n",
       "      <td>N</td>\n",
       "      <td>Comedy</td>\n",
       "      <td>18</td>\n",
       "      <td>10.80</td>\n",
       "      <td>3113427</td>\n",
       "      <td>4512</td>\n",
       "      <td>1224</td>\n",
       "    </tr>\n",
       "    <tr>\n",
       "      <th>...</th>\n",
       "      <td>...</td>\n",
       "      <td>...</td>\n",
       "      <td>...</td>\n",
       "      <td>...</td>\n",
       "      <td>...</td>\n",
       "      <td>...</td>\n",
       "      <td>...</td>\n",
       "      <td>...</td>\n",
       "      <td>...</td>\n",
       "      <td>...</td>\n",
       "    </tr>\n",
       "    <tr>\n",
       "      <th>144</th>\n",
       "      <td>145</td>\n",
       "      <td>27-Feb-15</td>\n",
       "      <td>Dum Laga Ke Haisha</td>\n",
       "      <td>N</td>\n",
       "      <td>Comedy</td>\n",
       "      <td>15</td>\n",
       "      <td>30.00</td>\n",
       "      <td>3250917</td>\n",
       "      <td>8185</td>\n",
       "      <td>615</td>\n",
       "    </tr>\n",
       "    <tr>\n",
       "      <th>145</th>\n",
       "      <td>146</td>\n",
       "      <td>13-Mar-15</td>\n",
       "      <td>NH10</td>\n",
       "      <td>N</td>\n",
       "      <td>Thriller</td>\n",
       "      <td>13</td>\n",
       "      <td>32.10</td>\n",
       "      <td>5592977</td>\n",
       "      <td>15464</td>\n",
       "      <td>1513</td>\n",
       "    </tr>\n",
       "    <tr>\n",
       "      <th>146</th>\n",
       "      <td>147</td>\n",
       "      <td>20-Mar-15</td>\n",
       "      <td>Dilliwali Zaalim Girlfriend</td>\n",
       "      <td>N</td>\n",
       "      <td>Comedy</td>\n",
       "      <td>32</td>\n",
       "      <td>12.00</td>\n",
       "      <td>2316047</td>\n",
       "      <td>4289</td>\n",
       "      <td>807</td>\n",
       "    </tr>\n",
       "    <tr>\n",
       "      <th>147</th>\n",
       "      <td>148</td>\n",
       "      <td>20-Mar-15</td>\n",
       "      <td>Hunterrr</td>\n",
       "      <td>N</td>\n",
       "      <td>Comedy</td>\n",
       "      <td>5</td>\n",
       "      <td>11.89</td>\n",
       "      <td>4674795</td>\n",
       "      <td>3706</td>\n",
       "      <td>762</td>\n",
       "    </tr>\n",
       "    <tr>\n",
       "      <th>148</th>\n",
       "      <td>149</td>\n",
       "      <td>23-May-14</td>\n",
       "      <td>Kochadaiiyaan</td>\n",
       "      <td>HS</td>\n",
       "      <td>Action</td>\n",
       "      <td>150</td>\n",
       "      <td>120.00</td>\n",
       "      <td>4740727</td>\n",
       "      <td>13466</td>\n",
       "      <td>2649</td>\n",
       "    </tr>\n",
       "  </tbody>\n",
       "</table>\n",
       "<p>149 rows × 10 columns</p>\n",
       "</div>"
      ],
      "text/plain": [
       "     SlNo Release Date                    MovieName ReleaseTime      Genre  \\\n",
       "0       1    18-Apr-14                     2 States          LW    Romance   \n",
       "1       2     4-Jan-13                 Table No. 21           N  Thriller    \n",
       "2       3    18-Jul-14           Amit Sahni Ki List           N     Comedy   \n",
       "3       4     4-Jan-13             Rajdhani Express           N     Drama    \n",
       "4       5     4-Jul-14                 Bobby Jasoos           N     Comedy   \n",
       "..    ...          ...                          ...         ...        ...   \n",
       "144   145    27-Feb-15           Dum Laga Ke Haisha           N     Comedy   \n",
       "145   146    13-Mar-15                         NH10           N   Thriller   \n",
       "146   147    20-Mar-15  Dilliwali Zaalim Girlfriend           N     Comedy   \n",
       "147   148    20-Mar-15                     Hunterrr           N     Comedy   \n",
       "148   149    23-May-14                Kochadaiiyaan          HS     Action   \n",
       "\n",
       "     Budget  BoxOfficeCollection  YoutubeViews  YoutubeLikes  YoutubeDislikes  \n",
       "0        36               104.00       8576361         26622             2527  \n",
       "1        10                12.00       1087320          1129              137  \n",
       "2        10                 4.00        572336           586               54  \n",
       "3         7                 0.35         42626            86               19  \n",
       "4        18                10.80       3113427          4512             1224  \n",
       "..      ...                  ...           ...           ...              ...  \n",
       "144      15                30.00       3250917          8185              615  \n",
       "145      13                32.10       5592977         15464             1513  \n",
       "146      32                12.00       2316047          4289              807  \n",
       "147       5                11.89       4674795          3706              762  \n",
       "148     150               120.00       4740727         13466             2649  \n",
       "\n",
       "[149 rows x 10 columns]"
      ]
     },
     "execution_count": 1,
     "metadata": {},
     "output_type": "execute_result"
    }
   ],
   "source": [
    "import pandas as pd\n",
    "from matplotlib import pyplot as plt\n",
    "import matplotlib.pyplot as plt\n",
    "import seaborn as sns\n",
    "import numpy as np\n",
    "df=pd.read_csv('bollywood.csv')\n",
    "df"
   ]
  },
  {
   "cell_type": "code",
   "execution_count": 2,
   "id": "c524f4ac",
   "metadata": {},
   "outputs": [
    {
     "name": "stdout",
     "output_type": "stream",
     "text": [
      "149\n"
     ]
    }
   ],
   "source": [
    "#1. How many records are present in the dataset?\n",
    "\n",
    "print(df.shape[0])"
   ]
  },
  {
   "cell_type": "code",
   "execution_count": 3,
   "id": "cc7bd5e6",
   "metadata": {},
   "outputs": [
    {
     "data": {
      "text/plain": [
       "Comedy      36\n",
       "Drama       35\n",
       "Thriller    29\n",
       "Romance     25\n",
       "Action      24\n",
       "Name: Genre, dtype: int64"
      ]
     },
     "execution_count": 3,
     "metadata": {},
     "output_type": "execute_result"
    }
   ],
   "source": [
    "#2. How many movies got released in each genre? Sort number of releases in each genre in descending order.\n",
    "\n",
    "df['Genre'] = df['Genre'].str.strip()\n",
    "gen=df['Genre']\n",
    "count=gen.value_counts(sort=True, ascending=False)\n",
    "\n",
    "count"
   ]
  },
  {
   "cell_type": "code",
   "execution_count": 4,
   "id": "a213f31a",
   "metadata": {},
   "outputs": [
    {
     "data": {
      "text/plain": [
       "Comedy    36\n",
       "Name: Genre, dtype: int64"
      ]
     },
     "execution_count": 4,
     "metadata": {},
     "output_type": "execute_result"
    }
   ],
   "source": [
    "#3. Which genre had highest number of releases?\n",
    "\n",
    "count.head(1)"
   ]
  },
  {
   "cell_type": "code",
   "execution_count": 5,
   "id": "ba30d14f",
   "metadata": {},
   "outputs": [
    {
     "data": {
      "text/html": [
       "<div>\n",
       "<style scoped>\n",
       "    .dataframe tbody tr th:only-of-type {\n",
       "        vertical-align: middle;\n",
       "    }\n",
       "\n",
       "    .dataframe tbody tr th {\n",
       "        vertical-align: top;\n",
       "    }\n",
       "\n",
       "    .dataframe thead th {\n",
       "        text-align: right;\n",
       "    }\n",
       "</style>\n",
       "<table border=\"1\" class=\"dataframe\">\n",
       "  <thead>\n",
       "    <tr style=\"text-align: right;\">\n",
       "      <th>ReleaseTime</th>\n",
       "      <th>FS</th>\n",
       "      <th>HS</th>\n",
       "      <th>LW</th>\n",
       "      <th>N</th>\n",
       "    </tr>\n",
       "    <tr>\n",
       "      <th>Genre</th>\n",
       "      <th></th>\n",
       "      <th></th>\n",
       "      <th></th>\n",
       "      <th></th>\n",
       "    </tr>\n",
       "  </thead>\n",
       "  <tbody>\n",
       "    <tr>\n",
       "      <th>Action</th>\n",
       "      <td>3</td>\n",
       "      <td>3</td>\n",
       "      <td>3</td>\n",
       "      <td>15</td>\n",
       "    </tr>\n",
       "    <tr>\n",
       "      <th>Comedy</th>\n",
       "      <td>3</td>\n",
       "      <td>5</td>\n",
       "      <td>5</td>\n",
       "      <td>23</td>\n",
       "    </tr>\n",
       "    <tr>\n",
       "      <th>Drama</th>\n",
       "      <td>4</td>\n",
       "      <td>6</td>\n",
       "      <td>1</td>\n",
       "      <td>24</td>\n",
       "    </tr>\n",
       "    <tr>\n",
       "      <th>Romance</th>\n",
       "      <td>3</td>\n",
       "      <td>3</td>\n",
       "      <td>4</td>\n",
       "      <td>15</td>\n",
       "    </tr>\n",
       "    <tr>\n",
       "      <th>Thriller</th>\n",
       "      <td>4</td>\n",
       "      <td>1</td>\n",
       "      <td>2</td>\n",
       "      <td>22</td>\n",
       "    </tr>\n",
       "  </tbody>\n",
       "</table>\n",
       "</div>"
      ],
      "text/plain": [
       "ReleaseTime  FS  HS  LW   N\n",
       "Genre                      \n",
       "Action        3   3   3  15\n",
       "Comedy        3   5   5  23\n",
       "Drama         4   6   1  24\n",
       "Romance       3   3   4  15\n",
       "Thriller      4   1   2  22"
      ]
     },
     "execution_count": 5,
     "metadata": {},
     "output_type": "execute_result"
    }
   ],
   "source": [
    "#4. How many movies in each genre got released in different release times like long weekend, festive season, etc.\n",
    "\n",
    "genrevstime=pd.crosstab(df.Genre, df.ReleaseTime)\n",
    "genrevstime"
   ]
  },
  {
   "cell_type": "code",
   "execution_count": 6,
   "id": "547a4c69",
   "metadata": {},
   "outputs": [
    {
     "data": {
      "text/plain": [
       "1    20\n",
       "Name: month, dtype: int64"
      ]
     },
     "execution_count": 6,
     "metadata": {},
     "output_type": "execute_result"
    }
   ],
   "source": [
    "#5. Which month of the year, maximum number movie releases are seen?\n",
    "\n",
    "df['month']=pd.DatetimeIndex(df['Release Date']).month\n",
    "\n",
    "# print(month)\n",
    "count1=df['month'].value_counts(sort=True, ascending=False)\n",
    "\n",
    "count1.head(1)"
   ]
  },
  {
   "cell_type": "code",
   "execution_count": 7,
   "id": "cdb59d67",
   "metadata": {},
   "outputs": [
    {
     "data": {
      "text/plain": [
       "2    9\n",
       "Name: month, dtype: int64"
      ]
     },
     "execution_count": 7,
     "metadata": {},
     "output_type": "execute_result"
    }
   ],
   "source": [
    "#6. Which month of the year typically sees most releases of high budgeted movies, that is, movies with budget of 25 crore or more?\n",
    "\n",
    "df2=df[df['Budget']>25]\n",
    "\n",
    "count1=df2['month'].value_counts(sort=True, ascending=False)\n",
    "\n",
    "count1.head(1)"
   ]
  },
  {
   "cell_type": "code",
   "execution_count": 8,
   "id": "36652ff6",
   "metadata": {},
   "outputs": [
    {
     "data": {
      "text/plain": [
       "0    1.888889\n",
       "1    0.200000\n",
       "2   -0.600000\n",
       "3   -0.950000\n",
       "4   -0.400000\n",
       "5    4.000000\n",
       "6   -0.180000\n",
       "7    0.212121\n",
       "8   -0.129032\n",
       "9   -0.995000\n",
       "Name: ROI, dtype: float64"
      ]
     },
     "execution_count": 8,
     "metadata": {},
     "output_type": "execute_result"
    }
   ],
   "source": [
    "#7. Which are the top 10 movies with maximum return on investment (ROI)? Calculate return on investment (ROI) as (BoxOfficeCollection – Budget) / Budget.\n",
    "\n",
    "df['ROI']=(df['BoxOfficeCollection']-df['Budget'])/df['Budget']\n",
    "\n",
    "df['ROI'].head(10)"
   ]
  },
  {
   "cell_type": "code",
   "execution_count": 9,
   "id": "3bc422f4",
   "metadata": {},
   "outputs": [
    {
     "name": "stdout",
     "output_type": "stream",
     "text": [
      "0.6825165877731297\n",
      "positive\n"
     ]
    }
   ],
   "source": [
    "#9. Is there a correlation between box office collection and YouTube likes? Is the correlation positive or negative?\n",
    "\n",
    "correlation= df['BoxOfficeCollection'].corr(df['YoutubeLikes'])\n",
    "print(correlation)\n",
    "if( correlation>0):\n",
    "    print(\"positive\")\n",
    "else:\n",
    "    print(\"negative\")"
   ]
  },
  {
   "cell_type": "code",
   "execution_count": 10,
   "id": "b8c8a3dd",
   "metadata": {},
   "outputs": [
    {
     "name": "stdout",
     "output_type": "stream",
     "text": [
      "Genre with most number of Youtube likes: \n",
      "Action\n",
      "401873\n"
     ]
    },
    {
     "data": {
      "image/png": "[encoded data removed]",
      "text/plain": [
       "<Figure size 432x288 with 1 Axes>"
      ]
     },
     "metadata": {
      "needs_background": "light"
     },
     "output_type": "display_data"
    },
    {
     "data": {
      "image/png": "[encoded data removed]",
      "text/plain": [
       "<Figure size 432x288 with 1 Axes>"
      ]
     },
     "metadata": {
      "needs_background": "light"
     },
     "output_type": "display_data"
    },
    {
     "data": {
      "image/png": "[encoded data removed]",
      "text/plain": [
       "<Figure size 432x288 with 1 Axes>"
      ]
     },
     "metadata": {
      "needs_background": "light"
     },
     "output_type": "display_data"
    },
    {
     "data": {
      "image/png": "[encoded data removed]",
      "text/plain": [
       "<Figure size 432x288 with 1 Axes>"
      ]
     },
     "metadata": {
      "needs_background": "light"
     },
     "output_type": "display_data"
    },
    {
     "data": {
      "image/png": "[encoded data removed]",
      "text/plain": [
       "<Figure size 432x288 with 1 Axes>"
      ]
     },
     "metadata": {
      "needs_background": "light"
     },
     "output_type": "display_data"
    }
   ],
   "source": [
    "#10. Which genre of movies typically sees more YouTube likes? Draw boxplots for each genre of movies to compare.\n",
    "\n",
    "gen1=df[df['Genre']==\"Comedy\"]\n",
    "sum1=gen1['YoutubeLikes'].sum()\n",
    "\n",
    "gen2=df[df['Genre']==\"Drama\"]\n",
    "sum2=gen2['YoutubeLikes'].sum()\n",
    "\n",
    "gen3=df[df['Genre']==\"Thriller\"]\n",
    "sum3=gen3['YoutubeLikes'].sum()\n",
    "\n",
    "gen4=df[df['Genre']==\"Romance\"]\n",
    "sum4=gen4['YoutubeLikes'].sum()\n",
    "\n",
    "gen5=df[df['Genre']==\"Action\"]\n",
    "sum5=gen5['YoutubeLikes'].sum()\n",
    "\n",
    "sum={'Genre' :[\"Comedy\", \"Drama\", \"Thriller\", \"Romance\", \"Action\" ],\n",
    "    'Sum': [sum1, sum2, sum3, sum4, sum5]}\n",
    "likes= pd.DataFrame(sum)\n",
    "\n",
    "likes\n",
    "\n",
    "maxLikes=likes['Sum'].idxmax()\n",
    "print(\"Genre with most number of Youtube likes: \")\n",
    "print(likes.iat[maxLikes,0])\n",
    "print(likes['Sum'].max())\n",
    "\n",
    "# ax1 =sns.boxplot(x=gen1['YoutubeLikes'])\n",
    "# ax2 =sns.boxplot(x=gen2['YoutubeLikes'])\n",
    "# ax3 =sns.boxplot(x=gen3['YoutubeLikes'])\n",
    "# ax4 =sns.boxplot(x=gen4['YoutubeLikes'])\n",
    "# ax5 =sns.boxplot(x=gen5['YoutubeLikes'])\n",
    "\n",
    "plt.boxplot(gen1['YoutubeLikes'])\n",
    "plt.title(\"Comedy\")\n",
    "plt.ylabel(\"Youtube likes\")\n",
    "plt.show()\n",
    "plt.boxplot(gen2['YoutubeLikes'])\n",
    "plt.title(\"Drama\")\n",
    "plt.ylabel(\"Youtube likes\")\n",
    "plt.show()\n",
    "plt.boxplot(gen3['YoutubeLikes'])\n",
    "plt.title(\"Thriller\")\n",
    "plt.ylabel(\"Youtube likes\")\n",
    "plt.show()\n",
    "plt.boxplot(gen4['YoutubeLikes'])\n",
    "plt.title(\"Romance\")\n",
    "plt.ylabel(\"Youtube likes\")\n",
    "plt.show()\n",
    "plt.boxplot(gen5['YoutubeLikes'])\n",
    "plt.title(\"Action\")\n",
    "plt.ylabel(\"Youtube likes\")\n",
    "plt.show()"
   ]
  },
  {
   "cell_type": "code",
   "execution_count": 11,
   "id": "f667def6",
   "metadata": {},
   "outputs": [
    {
     "data": {
      "image/png": "[encoded data removed]",
      "text/plain": [
       "<Figure size 432x288 with 2 Axes>"
      ]
     },
     "metadata": {
      "needs_background": "light"
     },
     "output_type": "display_data"
    },
    {
     "name": "stdout",
     "output_type": "stream",
     "text": [
      "YoutubeViews and YoutubeLikes are the most correlated values\n"
     ]
    }
   ],
   "source": [
    "#11. Which of the variables among Budget, BoxOfficeCollection, YoutubeView, YoutubeLikes, YoutubeDislikes are highly correlated? Note: Draw pair plot or heatmap.\n",
    "\n",
    "sns.heatmap(df.corr())\n",
    "plt.show()\n",
    "\n",
    "print(\"YoutubeViews and YoutubeLikes are the most correlated values\")"
   ]
  },
  {
   "cell_type": "code",
   "execution_count": 12,
   "id": "54e5eaf8",
   "metadata": {},
   "outputs": [
    {
     "data": {
      "image/png": "[encoded data removed]",
      "text/plain": [
       "<Figure size 432x288 with 1 Axes>"
      ]
     },
     "metadata": {
      "needs_background": "light"
     },
     "output_type": "display_data"
    },
    {
     "data": {
      "text/html": [
       "<div>\n",
       "<style scoped>\n",
       "    .dataframe tbody tr th:only-of-type {\n",
       "        vertical-align: middle;\n",
       "    }\n",
       "\n",
       "    .dataframe tbody tr th {\n",
       "        vertical-align: top;\n",
       "    }\n",
       "\n",
       "    .dataframe thead th {\n",
       "        text-align: right;\n",
       "    }\n",
       "</style>\n",
       "<table border=\"1\" class=\"dataframe\">\n",
       "  <thead>\n",
       "    <tr style=\"text-align: right;\">\n",
       "      <th></th>\n",
       "      <th>Genre</th>\n",
       "      <th>Sum</th>\n",
       "    </tr>\n",
       "  </thead>\n",
       "  <tbody>\n",
       "    <tr>\n",
       "      <th>0</th>\n",
       "      <td>Comedy</td>\n",
       "      <td>1660.14</td>\n",
       "    </tr>\n",
       "    <tr>\n",
       "      <th>1</th>\n",
       "      <td>Drama</td>\n",
       "      <td>2302.76</td>\n",
       "    </tr>\n",
       "    <tr>\n",
       "      <th>2</th>\n",
       "      <td>Thriller</td>\n",
       "      <td>810.15</td>\n",
       "    </tr>\n",
       "    <tr>\n",
       "      <th>3</th>\n",
       "      <td>Romance</td>\n",
       "      <td>1321.03</td>\n",
       "    </tr>\n",
       "    <tr>\n",
       "      <th>4</th>\n",
       "      <td>Action</td>\n",
       "      <td>2200.34</td>\n",
       "    </tr>\n",
       "  </tbody>\n",
       "</table>\n",
       "</div>"
      ],
      "text/plain": [
       "      Genre      Sum\n",
       "0    Comedy  1660.14\n",
       "1     Drama  2302.76\n",
       "2  Thriller   810.15\n",
       "3   Romance  1321.03\n",
       "4    Action  2200.34"
      ]
     },
     "execution_count": 12,
     "metadata": {},
     "output_type": "execute_result"
    }
   ],
   "source": [
    "#12. During 2013−2015 period, highlight the genre of movies and their box office collection? Visualize with best fit graph.\n",
    "\n",
    "df['year']=pd.DatetimeIndex(df['Release Date']).year\n",
    "\n",
    "df2=df[df['year']>2012]\n",
    "df2=df[df['year']<2016]\n",
    "\n",
    "gen1=df2[df2['Genre']==\"Comedy\"]\n",
    "sum1=gen1['BoxOfficeCollection'].sum()\n",
    "\n",
    "gen2=df2[df2['Genre']==\"Drama\"]\n",
    "sum2=gen2['BoxOfficeCollection'].sum()\n",
    "\n",
    "gen3=df2[df2['Genre']==\"Thriller\"]\n",
    "sum3=gen3['BoxOfficeCollection'].sum()\n",
    "\n",
    "gen4=df2[df2['Genre']==\"Romance\"]\n",
    "sum4=gen4['BoxOfficeCollection'].sum()\n",
    "\n",
    "gen5=df2[df2['Genre']==\"Action\"]\n",
    "sum5=gen5['BoxOfficeCollection'].sum()\n",
    "\n",
    "sum={'Genre' :[\"Comedy\", \"Drama\", \"Thriller\", \"Romance\", \"Action\" ],\n",
    "    'Sum': [sum1, sum2, sum3, sum4, sum5]}\n",
    "df3= pd.DataFrame(sum)\n",
    "\n",
    "plt.plot(df3['Genre'], df3['Sum'])\n",
    "plt.title(\" During 2013−2015 period, highlight the genre of movies and their box office collection?\")\n",
    "plt.xlabel(\"Genre\")\n",
    "plt.ylabel(\"BoxOfficeCollection\")\n",
    "plt.show()\n",
    "df3\n"
   ]
  },
  {
   "cell_type": "code",
   "execution_count": 13,
   "id": "2e224c39",
   "metadata": {},
   "outputs": [
    {
     "data": {
      "image/png": "[encoded data removed]",
      "text/plain": [
       "<Figure size 432x288 with 1 Axes>"
      ]
     },
     "metadata": {
      "needs_background": "light"
     },
     "output_type": "display_data"
    },
    {
     "data": {
      "text/html": [
       "<div>\n",
       "<style scoped>\n",
       "    .dataframe tbody tr th:only-of-type {\n",
       "        vertical-align: middle;\n",
       "    }\n",
       "\n",
       "    .dataframe tbody tr th {\n",
       "        vertical-align: top;\n",
       "    }\n",
       "\n",
       "    .dataframe thead th {\n",
       "        text-align: right;\n",
       "    }\n",
       "</style>\n",
       "<table border=\"1\" class=\"dataframe\">\n",
       "  <thead>\n",
       "    <tr style=\"text-align: right;\">\n",
       "      <th></th>\n",
       "      <th>Genre</th>\n",
       "      <th>Budget</th>\n",
       "      <th>BoxOfficeCollection</th>\n",
       "    </tr>\n",
       "  </thead>\n",
       "  <tbody>\n",
       "    <tr>\n",
       "      <th>0</th>\n",
       "      <td>Comedy</td>\n",
       "      <td>910</td>\n",
       "      <td>1660.14</td>\n",
       "    </tr>\n",
       "    <tr>\n",
       "      <th>1</th>\n",
       "      <td>Drama</td>\n",
       "      <td>847</td>\n",
       "      <td>2302.76</td>\n",
       "    </tr>\n",
       "    <tr>\n",
       "      <th>2</th>\n",
       "      <td>Thriller</td>\n",
       "      <td>634</td>\n",
       "      <td>810.15</td>\n",
       "    </tr>\n",
       "    <tr>\n",
       "      <th>3</th>\n",
       "      <td>Romance</td>\n",
       "      <td>629</td>\n",
       "      <td>1321.03</td>\n",
       "    </tr>\n",
       "    <tr>\n",
       "      <th>4</th>\n",
       "      <td>Action</td>\n",
       "      <td>1367</td>\n",
       "      <td>2200.34</td>\n",
       "    </tr>\n",
       "  </tbody>\n",
       "</table>\n",
       "</div>"
      ],
      "text/plain": [
       "      Genre  Budget  BoxOfficeCollection\n",
       "0    Comedy     910              1660.14\n",
       "1     Drama     847              2302.76\n",
       "2  Thriller     634               810.15\n",
       "3   Romance     629              1321.03\n",
       "4    Action    1367              2200.34"
      ]
     },
     "execution_count": 13,
     "metadata": {},
     "output_type": "execute_result"
    }
   ],
   "source": [
    "#13. Visualize the Budget and Box office collection based on Genre.\n",
    "\n",
    "gen1=df[df['Genre']==\"Comedy\"]\n",
    "sum1=gen1['Budget'].sum()\n",
    "summ1=gen1['BoxOfficeCollection'].sum()\n",
    "\n",
    "gen2=df[df['Genre']==\"Drama\"]\n",
    "sum2=gen2['Budget'].sum()\n",
    "summ2=gen2['BoxOfficeCollection'].sum()\n",
    "\n",
    "gen3=df[df['Genre']==\"Thriller\"]\n",
    "sum3=gen3['Budget'].sum()\n",
    "summ3=gen3['BoxOfficeCollection'].sum()\n",
    "\n",
    "gen4=df[df['Genre']==\"Romance\"]\n",
    "sum4=gen4['Budget'].sum()\n",
    "summ4=gen4['BoxOfficeCollection'].sum()\n",
    "\n",
    "gen5=df[df['Genre']==\"Action\"]\n",
    "sum5=gen5['Budget'].sum()\n",
    "summ5=gen5['BoxOfficeCollection'].sum()\n",
    "\n",
    "sum={'Genre' :[\"Comedy\", \"Drama\", \"Thriller\", \"Romance\", \"Action\" ],\n",
    "    'Budget': [sum1, sum2, sum3, sum4, sum5],\n",
    "    'BoxOfficeCollection': [summ1, summ2, summ3, summ4, summ5]}\n",
    "df3= pd.DataFrame(sum)\n",
    "df3\n",
    "\n",
    "plt.plot(df3['Genre'], df3['Budget'], label=\"Budget\")\n",
    "plt.plot(df3['Genre'], df3['BoxOfficeCollection'], label=\"BoxOfficeCollection\")\n",
    "plt.title(\"Budget and Box office collection based on Genre\")\n",
    "plt.xlabel(\"Genre\")\n",
    "plt.ylabel(\"BoxOfficeCollection, Budget\")\n",
    "plt.legend()\n",
    "plt.show()\n",
    "df3"
   ]
  },
  {
   "cell_type": "code",
   "execution_count": 14,
   "id": "49cb8262",
   "metadata": {},
   "outputs": [
    {
     "data": {
      "text/plain": [
       "<function matplotlib.pyplot.show(close=None, block=None)>"
      ]
     },
     "execution_count": 14,
     "metadata": {},
     "output_type": "execute_result"
    },
    {
     "data": {
      "image/png": "[encoded data removed]",
      "text/plain": [
       "<Figure size 432x288 with 1 Axes>"
      ]
     },
     "metadata": {
      "needs_background": "light"
     },
     "output_type": "display_data"
    }
   ],
   "source": [
    "#14. Find the distribution of movie budget for every Genre.\n",
    "\n",
    "# plt.hist(df3[['Genre', 'Budget']])\n",
    "\n",
    "df3[['Genre', 'Budget']].plot(kind='bar')\n",
    "plt.show"
   ]
  },
  {
   "cell_type": "code",
   "execution_count": 15,
   "id": "58eb0d97",
   "metadata": {},
   "outputs": [
    {
     "data": {
      "text/html": [
       "<div>\n",
       "<style scoped>\n",
       "    .dataframe tbody tr th:only-of-type {\n",
       "        vertical-align: middle;\n",
       "    }\n",
       "\n",
       "    .dataframe tbody tr th {\n",
       "        vertical-align: top;\n",
       "    }\n",
       "\n",
       "    .dataframe thead th {\n",
       "        text-align: right;\n",
       "    }\n",
       "</style>\n",
       "<table border=\"1\" class=\"dataframe\">\n",
       "  <thead>\n",
       "    <tr style=\"text-align: right;\">\n",
       "      <th></th>\n",
       "      <th>Year</th>\n",
       "      <th>No of releases</th>\n",
       "    </tr>\n",
       "  </thead>\n",
       "  <tbody>\n",
       "    <tr>\n",
       "      <th>0</th>\n",
       "      <td>2013</td>\n",
       "      <td>67</td>\n",
       "    </tr>\n",
       "    <tr>\n",
       "      <th>1</th>\n",
       "      <td>2014</td>\n",
       "      <td>137</td>\n",
       "    </tr>\n",
       "    <tr>\n",
       "      <th>2</th>\n",
       "      <td>2015</td>\n",
       "      <td>149</td>\n",
       "    </tr>\n",
       "  </tbody>\n",
       "</table>\n",
       "</div>"
      ],
      "text/plain": [
       "   Year  No of releases\n",
       "0  2013              67\n",
       "1  2014             137\n",
       "2  2015             149"
      ]
     },
     "execution_count": 15,
     "metadata": {},
     "output_type": "execute_result"
    },
    {
     "data": {
      "image/png": "[encoded data removed]",
      "text/plain": [
       "<Figure size 432x288 with 1 Axes>"
      ]
     },
     "metadata": {
      "needs_background": "light"
     },
     "output_type": "display_data"
    }
   ],
   "source": [
    "#15. During 2013−2015, find the number of movies released in every year. Also, visualize with best fit graph.\n",
    "\n",
    "year1=df[df['year']>2012]\n",
    "year1=df[df['year']<2014]\n",
    "\n",
    "yr1= year1['SlNo'].nunique()\n",
    "\n",
    "year2=df[df['year']>2013]\n",
    "year2=df[df['year']<2015]\n",
    "\n",
    "yr2= year2['SlNo'].nunique()\n",
    "\n",
    "year3=df[df['year']>2014]\n",
    "year3=df[df['year']<2016]\n",
    "\n",
    "yr3= year3['SlNo'].nunique()\n",
    "\n",
    "sum={'Year' :[\"2013\", \"2014\", \"2015\"],\n",
    "    'No of releases': [yr1, yr2, yr3]}\n",
    "releases= pd.DataFrame(sum)\n",
    "\n",
    "releases[['Year', 'No of releases']].plot(kind='bar')\n",
    "plt.title(\" During 2013−2015, find the number of movies released in every year\")\n",
    "plt.xlabel(\"Year\")\n",
    "plt.ylabel(\"No of releases\")\n",
    "plt.show\n",
    "\n",
    "releases"
   ]
  },
  {
   "cell_type": "code",
   "execution_count": null,
   "id": "f4228095",
   "metadata": {},
   "outputs": [],
   "source": []
  },
  {
   "cell_type": "code",
   "execution_count": null,
   "id": "2c9da852",
   "metadata": {},
   "outputs": [],
   "source": []
  }
 ],
 "metadata": {
  "kernelspec": {
   "display_name": "Python 3 (ipykernel)",
   "language": "python",
   "name": "python3"
  },
  "language_info": {
   "codemirror_mode": {
    "name": "ipython",
    "version": 3
   },
   "file_extension": ".py",
   "mimetype": "text/x-python",
   "name": "python",
   "nbconvert_exporter": "python",
   "pygments_lexer": "ipython3",
   "version": "3.9.12"
  }
 },
 "nbformat": 4,
 "nbformat_minor": 5
}
